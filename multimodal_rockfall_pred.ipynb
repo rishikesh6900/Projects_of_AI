{
 "cells": [
  {
   "metadata": {
    "ExecuteTime": {
     "end_time": "2025-09-22T04:31:11.105661Z",
     "start_time": "2025-09-22T04:31:10.742753Z"
    }
   },
   "cell_type": "code",
   "source": [
    "# Multimodal Rockfall Prediction System\n",
    "# This notebook integrates both image and sensor models for rockfall risk prediction.\n",
    "\n",
    "# --- Imports ---\n",
    "import numpy as np\n",
    "import pandas as pd\n",
    "from sklearn.tree import DecisionTreeClassifier\n",
    "from tensorflow.keras.models import load_model\n",
    "from tensorflow.keras.preprocessing import image\n",
    "\n",
    "# --- Load Image Model ---\n",
    "image_model_path = 'models/rockfall_model_improved.h5'\n",
    "image_model = load_model(image_model_path, compile=False)\n",
    "\n",
    "# --- Load Sensor Model (retrain for demo, or load if saved) ---\n",
    "sensor_data = pd.read_csv('synthetic_rockfall_dataset (1).csv')\n",
    "sensor_features = [\n",
    "    'slope_angle', 'crack_density', 'displacement', 'strain',\n",
    "    'pore_pressure', 'rainfall', 'temperature', 'vibration'\n",
    "]\n",
    "sensor_X = sensor_data[sensor_features]\n",
    "sensor_y = (sensor_data['risk'] > 0.5).astype(int)\n",
    "sensor_model = DecisionTreeClassifier(random_state=42, max_depth=3)\n",
    "sensor_model.fit(sensor_X, sensor_y)\n",
    "\n",
    "# --- Class mapping for image model ---\n",
    "image_classes = ['low', 'medium', 'high']  # Adjust if your model uses a different order\n"
   ],
   "id": "4a99ade8fe5f476e",
   "outputs": [],
   "execution_count": 23
  },
  {
   "metadata": {
    "ExecuteTime": {
     "end_time": "2025-09-22T04:31:11.123595Z",
     "start_time": "2025-09-22T04:31:11.117051Z"
    }
   },
   "cell_type": "code",
   "source": [
    "# --- Predict from Image ---\n",
    "def predict_image(img_path):\n",
    "    img = image.load_img(img_path, target_size=(224, 224))\n",
    "    x = image.img_to_array(img)\n",
    "    x = np.expand_dims(x, axis=0)\n",
    "    x = x / 255.0\n",
    "    preds = image_model.predict(x)\n",
    "    class_idx = np.argmax(preds)\n",
    "    return image_classes[class_idx], float(np.max(preds))\n"
   ],
   "id": "d2ce60f0dd06a66c",
   "outputs": [],
   "execution_count": 24
  },
  {
   "metadata": {
    "ExecuteTime": {
     "end_time": "2025-09-22T04:31:11.141862Z",
     "start_time": "2025-09-22T04:31:11.137615Z"
    }
   },
   "cell_type": "code",
   "source": [
    "# --- Predict from Sensor Data ---\n",
    "def predict_sensor(sensor_dict):\n",
    "    df = pd.DataFrame([sensor_dict])\n",
    "    proba = sensor_model.predict_proba(df)[:, 1][0]\n",
    "    return round(proba * 100, 2)\n"
   ],
   "id": "7f50ea859f870902",
   "outputs": [],
   "execution_count": 25
  },
  {
   "metadata": {
    "ExecuteTime": {
     "end_time": "2025-09-22T04:31:12.043144Z",
     "start_time": "2025-09-22T04:31:11.155110Z"
    }
   },
   "cell_type": "code",
   "source": [
    "# --- Example Usage ---\n",
    "# Image prediction\n",
    "img_path = 'data/test/high/download.jpg'  # Change to your test image path\n",
    "img_class, img_conf = predict_image(img_path)\n",
    "print(f\"Image model prediction: {img_class} (confidence: {img_conf*100:.2f}%)\")\n",
    "\n",
    "# Sensor prediction\n",
    "sensor_example = {\n",
    "    'slope_angle': 45,\n",
    "    'crack_density': 0.2,\n",
    "    'displacement': 3,\n",
    "    'strain': 0.007,\n",
    "    'pore_pressure': 60,\n",
    "    'rainfall': 40,\n",
    "    'temperature': 22,\n",
    "    'vibration': 0.4\n",
    "}\n",
    "sensor_proba = predict_sensor(sensor_example)\n",
    "print(f\"Sensor model predicted rockfall probability: {sensor_proba}%\")\n"
   ],
   "id": "7712d5b39a471085",
   "outputs": [
    {
     "name": "stdout",
     "output_type": "stream",
     "text": [
      "WARNING:tensorflow:5 out of the last 6 calls to <function TensorFlowTrainer.make_predict_function.<locals>.one_step_on_data_distributed at 0x00000288416745E0> triggered tf.function retracing. Tracing is expensive and the excessive number of tracings could be due to (1) creating @tf.function repeatedly in a loop, (2) passing tensors with different shapes, (3) passing Python objects instead of tensors. For (1), please define your @tf.function outside of the loop. For (2), @tf.function has reduce_retracing=True option that can avoid unnecessary retracing. For (3), please refer to https://www.tensorflow.org/guide/function#controlling_retracing and https://www.tensorflow.org/api_docs/python/tf/function for  more details.\n"
     ]
    },
    {
     "name": "stderr",
     "output_type": "stream",
     "text": [
      "WARNING:tensorflow:5 out of the last 6 calls to <function TensorFlowTrainer.make_predict_function.<locals>.one_step_on_data_distributed at 0x00000288416745E0> triggered tf.function retracing. Tracing is expensive and the excessive number of tracings could be due to (1) creating @tf.function repeatedly in a loop, (2) passing tensors with different shapes, (3) passing Python objects instead of tensors. For (1), please define your @tf.function outside of the loop. For (2), @tf.function has reduce_retracing=True option that can avoid unnecessary retracing. For (3), please refer to https://www.tensorflow.org/guide/function#controlling_retracing and https://www.tensorflow.org/api_docs/python/tf/function for  more details.\n"
     ]
    },
    {
     "name": "stdout",
     "output_type": "stream",
     "text": [
      "\u001B[1m1/1\u001B[0m \u001B[32m━━━━━━━━━━━━━━━━━━━━\u001B[0m\u001B[37m\u001B[0m \u001B[1m1s\u001B[0m 853ms/step\n",
      "Image model prediction: medium (confidence: 40.08%)\n",
      "Sensor model predicted rockfall probability: 0.0%\n"
     ]
    }
   ],
   "execution_count": 26
  },
  {
   "metadata": {
    "ExecuteTime": {
     "end_time": "2025-09-22T04:31:12.060119Z",
     "start_time": "2025-09-22T04:31:12.055291Z"
    }
   },
   "cell_type": "code",
   "source": [
    "# --- Debug: Test model on a known row from training data ---\n",
    "print(\"\\n--- Debug: Model test on known training data row ---\")\n",
    "known_row = sensor_data.iloc[0][sensor_features].to_dict()\n",
    "print(\"Known row input:\", known_row)\n",
    "known_proba = predict_sensor(known_row)\n",
    "print(f\"Predicted probability for known row: {known_proba}%\")\n"
   ],
   "id": "20d50a43b3b13473",
   "outputs": [
    {
     "name": "stdout",
     "output_type": "stream",
     "text": [
      "\n",
      "--- Debug: Model test on known training data row ---\n",
      "Known row input: {'slope_angle': 44.9816047538945, 'crack_density': 0.1851329288386196, 'displacement': 2.61705683735906, 'strain': 0.0067270299420889, 'pore_pressure': 57.19958782835928, 'rainfall': 39.363552027744205, 'temperature': 22.412847703891103, 'vibration': 0.3879945472888746}\n",
      "Predicted probability for known row: 0.0%\n"
     ]
    }
   ],
   "execution_count": 27
  },
  {
   "metadata": {
    "ExecuteTime": {
     "end_time": "2025-09-22T04:33:16.511538Z",
     "start_time": "2025-09-22T04:33:16.488593Z"
    }
   },
   "cell_type": "code",
   "source": [
    "# --- Extended Debug: Check model, data, and predictions ---\n",
    "print(\"\\n--- Extended Debug: Model and Data Checks ---\")\n",
    "print(\"sensor_y unique values:\", sensor_y.unique())\n",
    "print(\"sensor_y value counts:\\n\", sensor_y.value_counts())\n",
    "print(\"\\nTraining data feature stats:\")\n",
    "print(sensor_X.describe())\n",
    "\n",
    "# Predict probabilities for all training data\n",
    "train_probas = sensor_model.predict_proba(sensor_X)[:, 1]\n",
    "print(\"\\nFirst 10 predicted probabilities on training data:\", train_probas[:10])\n",
    "print(\"Min/Max/Mean predicted proba on training data:\", train_probas.min(), train_probas.max(), train_probas.mean())\n",
    "\n",
    "# Print feature importances\n",
    "print(\"\\nFeature importances:\")\n",
    "for feat, imp in zip(sensor_features, sensor_model.feature_importances_):\n",
    "    print(f\"{feat}: {imp:.4f}\")\n",
    "\n",
    "# Print DataFrame columns and dtypes for user input\n",
    "print(\"\\nUser input DataFrame columns and dtypes:\")\n",
    "user_df = pd.DataFrame([sensor_example])\n",
    "print(user_df.dtypes)\n",
    "print(user_df.columns)\n",
    "print(user_df)\n"
   ],
   "id": "5607cacbe734cc50",
   "outputs": [
    {
     "name": "stdout",
     "output_type": "stream",
     "text": [
      "\n",
      "--- Extended Debug: Model and Data Checks ---\n",
      "sensor_y unique values: [0 1]\n",
      "sensor_y value counts:\n",
      " risk\n",
      "0    1040\n",
      "1     177\n",
      "Name: count, dtype: int64\n",
      "\n",
      "Training data feature stats:\n",
      "       slope_angle  crack_density  displacement       strain  pore_pressure  \\\n",
      "count  1217.000000    1217.000000   1217.000000  1217.000000    1217.000000   \n",
      "mean     48.706177       0.553689      5.091420     0.004864      46.878559   \n",
      "std      12.020297       0.292914      2.893270     0.002844      29.222489   \n",
      "min      29.273868      -0.016769     -0.084778    -0.000184      -2.789108   \n",
      "25%      37.998747       0.259754      2.540848     0.002513      20.655184   \n",
      "50%      47.378994       0.602371      4.955508     0.004908      42.100314   \n",
      "75%      59.538985       0.818268      7.812888     0.007056      70.501901   \n",
      "max      70.598147       1.011397     10.166404     0.010050     102.041584   \n",
      "\n",
      "          rainfall  temperature    vibration  \n",
      "count  1217.000000  1217.000000  1217.000000  \n",
      "mean     48.859230    13.894482     4.745230  \n",
      "std      28.000149    14.745784     2.923576  \n",
      "min      -0.352391   -10.840700    -0.342996  \n",
      "25%      24.116337     0.181439     2.222832  \n",
      "50%      48.790020    13.274349     4.748140  \n",
      "75%      72.520430    27.976007     7.286344  \n",
      "max      99.928135    41.061989    10.012778  \n",
      "\n",
      "First 10 predicted probabilities on training data: [0.         0.05607477 0.88888889 0.         0.         0.\n",
      " 0.         0.63043478 0.         0.        ]\n",
      "Min/Max/Mean predicted proba on training data: 0.0 0.8888888888888888 0.14543960558751026\n",
      "\n",
      "Feature importances:\n",
      "slope_angle: 0.0621\n",
      "crack_density: 0.3285\n",
      "displacement: 0.4175\n",
      "strain: 0.0000\n",
      "pore_pressure: 0.0758\n",
      "rainfall: 0.0000\n",
      "temperature: 0.1160\n",
      "vibration: 0.0000\n",
      "\n",
      "User input DataFrame columns and dtypes:\n",
      "slope_angle      float64\n",
      "crack_density    float64\n",
      "displacement     float64\n",
      "strain           float64\n",
      "pore_pressure    float64\n",
      "rainfall         float64\n",
      "temperature      float64\n",
      "vibration        float64\n",
      "dtype: object\n",
      "Index(['slope_angle', 'crack_density', 'displacement', 'strain',\n",
      "       'pore_pressure', 'rainfall', 'temperature', 'vibration'],\n",
      "      dtype='object')\n",
      "   slope_angle  crack_density  displacement  strain  pore_pressure  rainfall  \\\n",
      "0         45.0            2.0           4.0   0.004            0.5      50.0   \n",
      "\n",
      "   temperature  vibration  \n",
      "0         21.0        0.1  \n"
     ]
    }
   ],
   "execution_count": 29
  },
  {
   "metadata": {
    "ExecuteTime": {
     "end_time": "2025-09-22T04:32:11.655493Z",
     "start_time": "2025-09-22T04:31:12.077073Z"
    }
   },
   "cell_type": "code",
   "source": [
    "# --- User Input Section (for interactive use) ---\n",
    "# Input for image path\n",
    "img_path = input(\"Enter the image file path (e.g., data/test/high/download.jpg): \")\n",
    "if img_path:\n",
    "    img_class, img_conf = predict_image(img_path)\n",
    "    print(f\"Image model prediction: {img_class} (confidence: {img_conf*100:.2f}%)\")\n",
    "else:\n",
    "    print(\"No image path provided.\")\n",
    "\n",
    "# Input for sensor data\n",
    "print(\"\\nEnter sensor data values:\")\n",
    "sensor_example = {}\n",
    "for feature in sensor_features:\n",
    "    val = input(f\"Enter value for {feature}: \")\n",
    "    try:\n",
    "        val = float(val)\n",
    "    except ValueError:\n",
    "        print(f\"Invalid input for {feature}, using 0.0 by default.\")\n",
    "        val = 0.0\n",
    "    sensor_example[feature] = val\n",
    "print(\"Sensor input DataFrame:\")\n",
    "print(pd.DataFrame([sensor_example]))\n",
    "sensor_proba = predict_sensor(sensor_example)\n",
    "print(f\"Sensor model predicted rockfall probability: {sensor_proba}%\")\n"
   ],
   "id": "9a47b99798e4da23",
   "outputs": [
    {
     "name": "stdout",
     "output_type": "stream",
     "text": [
      "\u001B[1m1/1\u001B[0m \u001B[32m━━━━━━━━━━━━━━━━━━━━\u001B[0m\u001B[37m\u001B[0m \u001B[1m0s\u001B[0m 45ms/step\n",
      "Image model prediction: medium (confidence: 42.29%)\n",
      "\n",
      "Enter sensor data values:\n",
      "Sensor input DataFrame:\n",
      "   slope_angle  crack_density  displacement  strain  pore_pressure  rainfall  \\\n",
      "0         45.0            2.0           4.0   0.004            0.5      50.0   \n",
      "\n",
      "   temperature  vibration  \n",
      "0         21.0        0.1  \n",
      "Sensor model predicted rockfall probability: 0.0%\n"
     ]
    }
   ],
   "execution_count": 28
  }
 ],
 "metadata": {},
 "nbformat": 4,
 "nbformat_minor": 5
}
